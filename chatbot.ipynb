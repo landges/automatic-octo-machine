{
  "nbformat": 4,
  "nbformat_minor": 0,
  "metadata": {
    "colab": {
      "name": "chatbot.ipynb",
      "provenance": [],
      "authorship_tag": "ABX9TyM8ZpE96w2jttV3JwcbLryx",
      "include_colab_link": true
    },
    "kernelspec": {
      "name": "python3",
      "display_name": "Python 3"
    }
  },
  "cells": [
    {
      "cell_type": "markdown",
      "metadata": {
        "id": "view-in-github",
        "colab_type": "text"
      },
      "source": [
        "<a href=\"https://colab.research.google.com/github/landges/automatic-octo-machine/blob/master/chatbot.ipynb\" target=\"_parent\"><img src=\"https://colab.research.google.com/assets/colab-badge.svg\" alt=\"Open In Colab\"/></a>"
      ]
    },
    {
      "cell_type": "markdown",
      "metadata": {
        "id": "TkjMBIgJxFen",
        "colab_type": "text"
      },
      "source": [
        "# Регулярные выражения"
      ]
    },
    {
      "cell_type": "code",
      "metadata": {
        "id": "NcOzXP36ve_o",
        "colab_type": "code",
        "colab": {
          "base_uri": "https://localhost:8080/",
          "height": 34
        },
        "outputId": "a6ef2aa4-03cb-45fa-cb2f-177c6188bdd7"
      },
      "source": [
        "import re\n",
        "\n",
        "\n",
        "def find_sub(text):\n",
        "    m= re.findall(r'([A-ZА-Яа-я]+-[0-9]+)',text)\n",
        "    me= re.finditer(r'([A-ZА-Яа-я]+-[0-9]+)',text)\n",
        "    it=[match.span() for match in me]\n",
        "    return m,it\n",
        "\n",
        "\n",
        "text='Советские конструкторы создали такие образцы вооружений как танки Т-34 и КВ-1, современные истребители Як-1 и МиГ-3, бомбардировщики Пе-2 и многое другое. Новая военная техника практически не уступала немецким аналогам, а по некоторым параметрам и превосходила их.'\n",
        "print(find_sub(text))"
      ],
      "execution_count": 27,
      "outputs": [
        {
          "output_type": "stream",
          "text": [
            "(['Т-34', 'КВ-1', 'Як-1', 'МиГ-3', 'Пе-2'], [(66, 70), (73, 77), (103, 107), (110, 115), (133, 137)])\n"
          ],
          "name": "stdout"
        }
      ]
    },
    {
      "cell_type": "markdown",
      "metadata": {
        "id": "vvP0qeOpyC8q",
        "colab_type": "text"
      },
      "source": [
        "# ChatBot"
      ]
    },
    {
      "cell_type": "code",
      "metadata": {
        "id": "FTbHZlqNzEoG",
        "colab_type": "code",
        "colab": {
          "base_uri": "https://localhost:8080/",
          "height": 286
        },
        "outputId": "f7822f8e-9d6e-4eaf-ed89-f5bba7cbe123"
      },
      "source": [
        "!pip install pyTelegramBotAPI\n",
        "!pip install config"
      ],
      "execution_count": 6,
      "outputs": [
        {
          "output_type": "stream",
          "text": [
            "Requirement already satisfied: pyTelegramBotAPI in /usr/local/lib/python3.6/dist-packages (3.6.7)\n",
            "Requirement already satisfied: six in /usr/local/lib/python3.6/dist-packages (from pyTelegramBotAPI) (1.12.0)\n",
            "Requirement already satisfied: requests in /usr/local/lib/python3.6/dist-packages (from pyTelegramBotAPI) (2.21.0)\n",
            "Requirement already satisfied: chardet<3.1.0,>=3.0.2 in /usr/local/lib/python3.6/dist-packages (from requests->pyTelegramBotAPI) (3.0.4)\n",
            "Requirement already satisfied: certifi>=2017.4.17 in /usr/local/lib/python3.6/dist-packages (from requests->pyTelegramBotAPI) (2019.11.28)\n",
            "Requirement already satisfied: idna<2.9,>=2.5 in /usr/local/lib/python3.6/dist-packages (from requests->pyTelegramBotAPI) (2.8)\n",
            "Requirement already satisfied: urllib3<1.25,>=1.21.1 in /usr/local/lib/python3.6/dist-packages (from requests->pyTelegramBotAPI) (1.24.3)\n",
            "Collecting config\n",
            "  Downloading https://files.pythonhosted.org/packages/59/6c/4ab0d80b22dca3baab49670b75ae2183b59649e9f27c11018075e509048e/config-0.4.2.tar.gz\n",
            "Building wheels for collected packages: config\n",
            "  Building wheel for config (setup.py) ... \u001b[?25l\u001b[?25hdone\n",
            "  Created wheel for config: filename=config-0.4.2-cp36-none-any.whl size=15135 sha256=161bc4fbfe4c104b57b77ae2fc36f1ab565a02ac24a566f012e910f206a9f901\n",
            "  Stored in directory: /root/.cache/pip/wheels/51/7d/db/0e38d2ec57843d00cc39f8df3686984ccec689694f7bc78a38\n",
            "Successfully built config\n",
            "Installing collected packages: config\n",
            "Successfully installed config-0.4.2\n"
          ],
          "name": "stdout"
        }
      ]
    },
    {
      "cell_type": "markdown",
      "metadata": {
        "id": "OZpfsIVyzzvm",
        "colab_type": "text"
      },
      "source": [
        "Config"
      ]
    },
    {
      "cell_type": "code",
      "metadata": {
        "id": "URabdFauzyx6",
        "colab_type": "code",
        "colab": {}
      },
      "source": [
        "TOKEN = '1117651347:AAEc5If0N-lTFU46mR038ZJnjWiwPIR_hSk'"
      ],
      "execution_count": 0,
      "outputs": []
    },
    {
      "cell_type": "markdown",
      "metadata": {
        "id": "P597d_6Nz4gC",
        "colab_type": "text"
      },
      "source": [
        "bot"
      ]
    },
    {
      "cell_type": "code",
      "metadata": {
        "id": "A0N0LTelze4S",
        "colab_type": "code",
        "colab": {}
      },
      "source": [
        "import telebot\n",
        "import config\n",
        "import random\n",
        "import re\n",
        "\n",
        "bot =telebot.TeleBot(TOKEN)\n",
        "\n",
        "@bot.message_handler(commands=['start'])\n",
        "def welcome(message):\n",
        "  # bot.send_sticker(message.chat.id,\n",
        "                                    #  'CAACAgIAAxkBAAIyWV5r6e6AAvRddcqGWV_OVetzUmngAAKsAQACVp29Cg-lG7YH1tjKGAQ')\n",
        "  bot.send_message(message.chat.id, \"Добро пожаловать, {0.first_name}!\\nЯ - <b>{1.first_name}</b>, бот созданный чтобы быть подопытным кроликом.\".format(message.from_user, bot.get_me()),\n",
        "        parse_mode='html')\n",
        "\n",
        "\n",
        "@bot.message_handler(content_types=['text'])\n",
        "def dialog(message):\n",
        "  \n",
        "  sms=re.search(r'прив|здрав|хай',message.text.lower())\n",
        "  if sms:\n",
        "    bot.send_message(message.chat.id,\"Здравствуйте! Могу ли я чем-нибудь помочь?\")\n",
        "  # else:\n",
        "  #   bot.send_message(message.chat.id,\"Не понимаю я что-то вас\")\n",
        "  \n",
        "  sms=re.search(r'да|конечно|хотелось бы',message.text.lower())\n",
        "  if sms:\n",
        "    bot.send_message(message.chat.id,\"Давайте поговорим!\")\n",
        "\n",
        "  sms=re.search(r'не',message.text.lower())\n",
        "  if sms:\n",
        "    bot.send_message(message.chat.id,\"Если что обращайтесь...\")\n",
        "\n",
        "  sms=re.search(r'давай|ок',message.text.lower())\n",
        "  if sms:\n",
        "    answer=random.choice([\"Как прошел ваш день?\",\"Слушаю вас.\",\"Как ваши дела?\"])\n",
        "    bot.send_message(message.chat.id,answer)\n",
        "\n",
        "  sms=re.search(r'[^(давай|ок)|(да|конечно|хотелось бы)]',message.text.lower())\n",
        "  if sms:\n",
        "    answer=random.choice([\"Расскажите подробнее\",\"Неужели\",\"Интересно\",\"Продолжайте\"])\n",
        "    bot.send_message(message.chat.id,answer)  \n",
        "\n",
        "bot.polling(none_stop=True)"
      ],
      "execution_count": 0,
      "outputs": []
    }
  ]
}