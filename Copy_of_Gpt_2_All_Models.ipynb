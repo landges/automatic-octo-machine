{
  "nbformat": 4,
  "nbformat_minor": 0,
  "metadata": {
    "colab": {
      "name": "Copy of Gpt-2-All-Models",
      "provenance": [],
      "collapsed_sections": [],
      "include_colab_link": true
    },
    "kernelspec": {
      "name": "python3",
      "display_name": "Python 3"
    },
    "accelerator": "GPU"
  },
  "cells": [
    {
      "cell_type": "markdown",
      "metadata": {
        "id": "view-in-github",
        "colab_type": "text"
      },
      "source": [
        "<a href=\"https://colab.research.google.com/github/landges/automatic-octo-machine/blob/master/Copy_of_Gpt_2_All_Models.ipynb\" target=\"_parent\"><img src=\"https://colab.research.google.com/assets/colab-badge.svg\" alt=\"Open In Colab\"/></a>"
      ]
    },
    {
      "cell_type": "code",
      "metadata": {
        "id": "GA3oRLxMRohz",
        "colab_type": "code",
        "outputId": "74972df9-8a43-4e1a-c18e-36e2b53ddc13",
        "colab": {
          "base_uri": "https://localhost:8080/",
          "height": 336
        }
      },
      "source": [
        "# Select GPT-2 model: 117M, 124M, 355M, 774M, 1558M\n",
        "\n",
        "model_name = '1558M'     # '117M' - smallest model. Set '1558M' for biggest 1.5B model\n",
        "\n",
        "!git clone https://github.com/openai/gpt-2\n",
        "\n",
        "%cd gpt-2\n",
        "\n",
        "!pip3 install -r requirements.txt\n",
        "\n",
        "# Download GPT-2 (selected model, for example 117M)\n",
        "!python3 download_model.py $model_name\n",
        "\n"
      ],
      "execution_count": 0,
      "outputs": [
        {
          "output_type": "stream",
          "text": [
            "fatal: destination path 'gpt-2' already exists and is not an empty directory.\n",
            "/content/gpt-2/gpt-2\n",
            "Requirement already satisfied: fire>=0.1.3 in /usr/local/lib/python3.6/dist-packages (from -r requirements.txt (line 1)) (0.2.1)\n",
            "Requirement already satisfied: regex==2017.4.5 in /usr/local/lib/python3.6/dist-packages (from -r requirements.txt (line 2)) (2017.4.5)\n",
            "Requirement already satisfied: requests==2.21.0 in /usr/local/lib/python3.6/dist-packages (from -r requirements.txt (line 3)) (2.21.0)\n",
            "Requirement already satisfied: tqdm==4.31.1 in /usr/local/lib/python3.6/dist-packages (from -r requirements.txt (line 4)) (4.31.1)\n",
            "Requirement already satisfied: six in /usr/local/lib/python3.6/dist-packages (from fire>=0.1.3->-r requirements.txt (line 1)) (1.12.0)\n",
            "Requirement already satisfied: termcolor in /usr/local/lib/python3.6/dist-packages (from fire>=0.1.3->-r requirements.txt (line 1)) (1.1.0)\n",
            "Requirement already satisfied: chardet<3.1.0,>=3.0.2 in /usr/local/lib/python3.6/dist-packages (from requests==2.21.0->-r requirements.txt (line 3)) (3.0.4)\n",
            "Requirement already satisfied: idna<2.9,>=2.5 in /usr/local/lib/python3.6/dist-packages (from requests==2.21.0->-r requirements.txt (line 3)) (2.8)\n",
            "Requirement already satisfied: urllib3<1.25,>=1.21.1 in /usr/local/lib/python3.6/dist-packages (from requests==2.21.0->-r requirements.txt (line 3)) (1.24.3)\n",
            "Requirement already satisfied: certifi>=2017.4.17 in /usr/local/lib/python3.6/dist-packages (from requests==2.21.0->-r requirements.txt (line 3)) (2019.11.28)\n",
            "Fetching checkpoint: 1.00kit [00:00, 1.16Mit/s]                                                     \n",
            "Fetching encoder.json: 1.04Mit [00:00, 61.6Mit/s]                                                   \n",
            "Fetching hparams.json: 1.00kit [00:00, 1.20Mit/s]                                                   \n",
            "Fetching model.ckpt.data-00000-of-00001: 6.23Git [02:07, 48.7Mit/s]                                 \n",
            "Fetching model.ckpt.index: 21.0kit [00:00, 13.2Mit/s]                                               \n",
            "Fetching model.ckpt.meta: 1.84Mit [00:00, 67.2Mit/s]                                                \n",
            "Fetching vocab.bpe: 457kit [00:00, 53.6Mit/s]                                                       \n"
          ],
          "name": "stdout"
        }
      ]
    },
    {
      "cell_type": "code",
      "metadata": {
        "id": "0PB1gYfkeZvU",
        "colab_type": "code",
        "outputId": "a5b4b2a9-23e7-45cd-fc83-7a6cc0fd25de",
        "colab": {
          "base_uri": "https://localhost:8080/",
          "height": 1000
        }
      },
      "source": [
        "# Generate samples by user input. Wait for string \"Model prompt >>>\", enter you text (begin phrase for network) and press Enter\n",
        "\n",
        "!python3 src/interactive_conditional_samples.py --model_name=$model_name"
      ],
      "execution_count": 0,
      "outputs": [
        {
          "output_type": "stream",
          "text": [
            "WARNING:tensorflow:From src/interactive_conditional_samples.py:57: The name tf.Session is deprecated. Please use tf.compat.v1.Session instead.\n",
            "\n",
            "2020-03-05 20:47:30.852772: I tensorflow/stream_executor/platform/default/dso_loader.cc:44] Successfully opened dynamic library libcuda.so.1\n",
            "2020-03-05 20:47:30.922617: I tensorflow/stream_executor/cuda/cuda_gpu_executor.cc:983] successful NUMA node read from SysFS had negative value (-1), but there must be at least one NUMA node, so returning NUMA node zero\n",
            "2020-03-05 20:47:30.923272: I tensorflow/core/common_runtime/gpu/gpu_device.cc:1618] Found device 0 with properties: \n",
            "name: Tesla T4 major: 7 minor: 5 memoryClockRate(GHz): 1.59\n",
            "pciBusID: 0000:00:04.0\n",
            "2020-03-05 20:47:30.932586: I tensorflow/stream_executor/platform/default/dso_loader.cc:44] Successfully opened dynamic library libcudart.so.10.1\n",
            "2020-03-05 20:47:30.947605: I tensorflow/stream_executor/platform/default/dso_loader.cc:44] Successfully opened dynamic library libcublas.so.10\n",
            "2020-03-05 20:47:30.955750: I tensorflow/stream_executor/platform/default/dso_loader.cc:44] Successfully opened dynamic library libcufft.so.10\n",
            "2020-03-05 20:47:30.965852: I tensorflow/stream_executor/platform/default/dso_loader.cc:44] Successfully opened dynamic library libcurand.so.10\n",
            "2020-03-05 20:47:30.979905: I tensorflow/stream_executor/platform/default/dso_loader.cc:44] Successfully opened dynamic library libcusolver.so.10\n",
            "2020-03-05 20:47:30.986316: I tensorflow/stream_executor/platform/default/dso_loader.cc:44] Successfully opened dynamic library libcusparse.so.10\n",
            "2020-03-05 20:47:30.999766: I tensorflow/stream_executor/platform/default/dso_loader.cc:44] Successfully opened dynamic library libcudnn.so.7\n",
            "2020-03-05 20:47:30.999897: I tensorflow/stream_executor/cuda/cuda_gpu_executor.cc:983] successful NUMA node read from SysFS had negative value (-1), but there must be at least one NUMA node, so returning NUMA node zero\n",
            "2020-03-05 20:47:31.000524: I tensorflow/stream_executor/cuda/cuda_gpu_executor.cc:983] successful NUMA node read from SysFS had negative value (-1), but there must be at least one NUMA node, so returning NUMA node zero\n",
            "2020-03-05 20:47:31.001079: I tensorflow/core/common_runtime/gpu/gpu_device.cc:1746] Adding visible gpu devices: 0\n",
            "2020-03-05 20:47:31.001482: I tensorflow/core/platform/cpu_feature_guard.cc:142] Your CPU supports instructions that this TensorFlow binary was not compiled to use: AVX512F\n",
            "2020-03-05 20:47:31.005910: I tensorflow/core/platform/profile_utils/cpu_utils.cc:94] CPU Frequency: 2000144999 Hz\n",
            "2020-03-05 20:47:31.006147: I tensorflow/compiler/xla/service/service.cc:168] XLA service 0x1830f40 initialized for platform Host (this does not guarantee that XLA will be used). Devices:\n",
            "2020-03-05 20:47:31.006199: I tensorflow/compiler/xla/service/service.cc:176]   StreamExecutor device (0): Host, Default Version\n",
            "2020-03-05 20:47:31.153445: I tensorflow/stream_executor/cuda/cuda_gpu_executor.cc:983] successful NUMA node read from SysFS had negative value (-1), but there must be at least one NUMA node, so returning NUMA node zero\n",
            "2020-03-05 20:47:31.154371: I tensorflow/compiler/xla/service/service.cc:168] XLA service 0x1831100 initialized for platform CUDA (this does not guarantee that XLA will be used). Devices:\n",
            "2020-03-05 20:47:31.154401: I tensorflow/compiler/xla/service/service.cc:176]   StreamExecutor device (0): Tesla T4, Compute Capability 7.5\n",
            "2020-03-05 20:47:31.154920: I tensorflow/stream_executor/cuda/cuda_gpu_executor.cc:983] successful NUMA node read from SysFS had negative value (-1), but there must be at least one NUMA node, so returning NUMA node zero\n",
            "2020-03-05 20:47:31.155680: I tensorflow/core/common_runtime/gpu/gpu_device.cc:1618] Found device 0 with properties: \n",
            "name: Tesla T4 major: 7 minor: 5 memoryClockRate(GHz): 1.59\n",
            "pciBusID: 0000:00:04.0\n",
            "2020-03-05 20:47:31.155778: I tensorflow/stream_executor/platform/default/dso_loader.cc:44] Successfully opened dynamic library libcudart.so.10.1\n",
            "2020-03-05 20:47:31.155806: I tensorflow/stream_executor/platform/default/dso_loader.cc:44] Successfully opened dynamic library libcublas.so.10\n",
            "2020-03-05 20:47:31.155826: I tensorflow/stream_executor/platform/default/dso_loader.cc:44] Successfully opened dynamic library libcufft.so.10\n",
            "2020-03-05 20:47:31.155847: I tensorflow/stream_executor/platform/default/dso_loader.cc:44] Successfully opened dynamic library libcurand.so.10\n",
            "2020-03-05 20:47:31.155877: I tensorflow/stream_executor/platform/default/dso_loader.cc:44] Successfully opened dynamic library libcusolver.so.10\n",
            "2020-03-05 20:47:31.155894: I tensorflow/stream_executor/platform/default/dso_loader.cc:44] Successfully opened dynamic library libcusparse.so.10\n",
            "2020-03-05 20:47:31.155914: I tensorflow/stream_executor/platform/default/dso_loader.cc:44] Successfully opened dynamic library libcudnn.so.7\n",
            "2020-03-05 20:47:31.156013: I tensorflow/stream_executor/cuda/cuda_gpu_executor.cc:983] successful NUMA node read from SysFS had negative value (-1), but there must be at least one NUMA node, so returning NUMA node zero\n",
            "2020-03-05 20:47:31.156768: I tensorflow/stream_executor/cuda/cuda_gpu_executor.cc:983] successful NUMA node read from SysFS had negative value (-1), but there must be at least one NUMA node, so returning NUMA node zero\n",
            "2020-03-05 20:47:31.157459: I tensorflow/core/common_runtime/gpu/gpu_device.cc:1746] Adding visible gpu devices: 0\n",
            "2020-03-05 20:47:31.157548: I tensorflow/stream_executor/platform/default/dso_loader.cc:44] Successfully opened dynamic library libcudart.so.10.1\n",
            "2020-03-05 20:47:31.158992: I tensorflow/core/common_runtime/gpu/gpu_device.cc:1159] Device interconnect StreamExecutor with strength 1 edge matrix:\n",
            "2020-03-05 20:47:31.159019: I tensorflow/core/common_runtime/gpu/gpu_device.cc:1165]      0 \n",
            "2020-03-05 20:47:31.159028: I tensorflow/core/common_runtime/gpu/gpu_device.cc:1178] 0:   N \n",
            "2020-03-05 20:47:31.159121: I tensorflow/stream_executor/cuda/cuda_gpu_executor.cc:983] successful NUMA node read from SysFS had negative value (-1), but there must be at least one NUMA node, so returning NUMA node zero\n",
            "2020-03-05 20:47:31.159635: I tensorflow/stream_executor/cuda/cuda_gpu_executor.cc:983] successful NUMA node read from SysFS had negative value (-1), but there must be at least one NUMA node, so returning NUMA node zero\n",
            "2020-03-05 20:47:31.160204: W tensorflow/core/common_runtime/gpu/gpu_bfc_allocator.cc:39] Overriding allow_growth setting because the TF_FORCE_GPU_ALLOW_GROWTH environment variable is set. Original config value was 0.\n",
            "2020-03-05 20:47:31.160243: I tensorflow/core/common_runtime/gpu/gpu_device.cc:1304] Created TensorFlow device (/job:localhost/replica:0/task:0/device:GPU:0 with 14221 MB memory) -> physical GPU (device: 0, name: Tesla T4, pci bus id: 0000:00:04.0, compute capability: 7.5)\n",
            "WARNING:tensorflow:From src/interactive_conditional_samples.py:58: The name tf.placeholder is deprecated. Please use tf.compat.v1.placeholder instead.\n",
            "\n",
            "WARNING:tensorflow:From src/interactive_conditional_samples.py:60: The name tf.set_random_seed is deprecated. Please use tf.compat.v1.set_random_seed instead.\n",
            "\n",
            "WARNING:tensorflow:From /content/gpt-2/gpt-2/src/sample.py:51: The name tf.AUTO_REUSE is deprecated. Please use tf.compat.v1.AUTO_REUSE instead.\n",
            "\n",
            "WARNING:tensorflow:From /content/gpt-2/gpt-2/src/model.py:148: The name tf.variable_scope is deprecated. Please use tf.compat.v1.variable_scope instead.\n",
            "\n",
            "WARNING:tensorflow:From /content/gpt-2/gpt-2/src/model.py:152: The name tf.get_variable is deprecated. Please use tf.compat.v1.get_variable instead.\n",
            "\n",
            "WARNING:tensorflow:From /content/gpt-2/gpt-2/src/model.py:36: The name tf.rsqrt is deprecated. Please use tf.math.rsqrt instead.\n",
            "\n",
            "WARNING:tensorflow:From /content/gpt-2/gpt-2/src/sample.py:64: to_float (from tensorflow.python.ops.math_ops) is deprecated and will be removed in a future version.\n",
            "Instructions for updating:\n",
            "Use `tf.cast` instead.\n",
            "WARNING:tensorflow:From /content/gpt-2/gpt-2/src/sample.py:39: where (from tensorflow.python.ops.array_ops) is deprecated and will be removed in a future version.\n",
            "Instructions for updating:\n",
            "Use tf.where in 2.0, which has the same broadcast rule as np.where\n",
            "WARNING:tensorflow:From /content/gpt-2/gpt-2/src/sample.py:67: multinomial (from tensorflow.python.ops.random_ops) is deprecated and will be removed in a future version.\n",
            "Instructions for updating:\n",
            "Use `tf.random.categorical` instead.\n",
            "WARNING:tensorflow:From src/interactive_conditional_samples.py:68: The name tf.train.Saver is deprecated. Please use tf.compat.v1.train.Saver instead.\n",
            "\n",
            "dfdf\n",
            "Model prompt >>> 2020-03-05 20:50:44.416734: I tensorflow/stream_executor/platform/default/dso_loader.cc:44] Successfully opened dynamic library libcublas.so.10\n",
            "======================================== SAMPLE 1 ========================================\n",
            " (most cost-efficient upgrades) and dreamstuff in yards. * Many SimulationAnalytics features integration (EMBS mechanism) 10.12 EVE U Heres the cleanup: 29.7k transactions, 419k job orders, 4.4B packages, ~68B saves, >10,000 models, 500MM features, ~2500k active clusters.... wow. CCP Ytterbium put in only 38B+ entries just by merging all links in eve.eve crystal sites (ground targeting, oddball exploration, kinda nitpicking...) Or infinity game slider rework. Incursion records skipped. CPT review table in full temp list. ChairmanSword some vid. Jump drive set circuit doctor behind locked door. Pirate kills dislocating effects recorded accurately. Apps that stop working after a while, like makeup. Ships being trapped in bubbles/towers. Battery size display. Cooling unit sort. Citadel got double the price. Planetary Scanner now does separate navigation page. Overviews mobile feature. - Also for CCP - Should this be an actual application? ActiveSession Viewer in a sandbox mode. Geocities app bug fixed. Alt text display stuff works better. Scatoeezy, the ARCH client is using a random port. So my post is in good cost efficient terms With account creations no longer registered an instant after they appear as a gamble for the next 24 months, You can keep it from being registered/clicked, even if it was right after login, (this is optional) DefenseSalvageDrones for ISK. EVE Clone Portal shows Carbon based blueprints 50% better than latest version of Citadels. Of the approximately 200 injectors that get run aboard any carrier, most only cluster around the ship that is manufacture stage since it will cost you about as much as 15 injectors. If possible remove a structure and ship the only that is life-critical during the enginge too. Cove was already fixed but dammit if skymining check out Corpse_Probe for having a proper dockable transfer scanner bugfixed. https://forums.eveonline.com/default.aspx?g=posts&m=6665331#post6665331 w00t (Just expect it to be a transit spamming plague that would be insane because you should not need to minimize the implant properties.... https://www.richardsjune.net/forum/topic/31896#223324 (except for the spammable button asshats) =)\n",
            "================================================================================\n",
            "Model prompt >>> яблочко\n",
            "======================================== SAMPLE 1 ========================================\n",
            "—жильтов Максим. Т.41.2005 М.6. этом, Клавентавием 30 после.\n",
            "\n",
            "1. Line А1 ЛАР ДЕРСТЕРСИ\n",
            "\n",
            "Line А1 ДЕРСТЕРСИ 3 1говоря In the cell of the distant coma we if left alone adopt by accident long social evolution in the Soviet kolkhoz or cluttered alley of aggressor and defeated – of accomplice producing depressive, drunken, stab.cedot stage, weighed down with all chargeings of life and endus alike in loss. In the cell full of madness of the skini, hysteria of society, and sick disease any experiment becomes a ruin and acknowledgment in toto cossons l'effray 60 and sauver. This road, signless and walled by iron gates, in which mischung and robbed to death we…in this period of the undisturbed aversion spontaneously paroxysm and alike subsequent convangencies crabbed and trench provincialbenaire Street Confrontation ground before a temporary closer perspective of oneself – such lies, this trackscape half pathless under night-black clouds of consciousness, a field of valor against chaos. The road is the nocturnal oyster, Hodor's Nothing – figuration of visual meteorological deficit – but we are curious; for we recognize that it can enough additional sign of a durin path. By antropocentrism on this road we may differentiate oneself in to demented cannibal, bleeding to crimson, we surrender.\n",
            "\n",
            "It is less nine carriages and herd of sheep descend below the skywards pale moon setting in the air a blazing bell with inscriptions of a glorious confessed Dreams of one –runamesgwn -6.\n",
            "\n",
            "❤ 3 П. 1 до 10: Развам: АКИЗЗ КОЛНЬЯ ВИИК ССТЫЛЬ 5 МП\n",
            "\n",
            "One night interval between us (it appears in –by reading new clock\n",
            "================================================================================\n",
            "Model prompt >>> book\n",
            "======================================== SAMPLE 1 ========================================\n",
            " a buddy in your gift exchange for $5, check My Paypal.I have received the first few package packages, which were filled with the love of my life. In addition, I am helping my family with expenses related to moving and inebriation/addiction, money problems, hobbies, shopping, pleasure/emotional needs and miscellaneous bills. This is a new chapter! I can only spend today on new things. :)<3(Sleepy and anon)Supplies list vs. cost:Old, wholesale Rainbow Stickers: (Please see this format and cut off by 2 inches around the perimeter. IF THERE IS A BOX OVER A BOTTOM OF THE SPIRAL PL Cards, I will ask for donations away from the gifts)Colored paper ends1 Small box scissors1 Sheet of metal rods 3\" or less$0.31 Set of small paper stickers approx 4 inch diameterCredit toward weekly staples ideal standard, or Santa can choose card for a fancier stamp.View Original Post :http://i.imgur.com/sRDgN16.jpg~~REMEMBER~~You can help give \"@mister_maspgan\" back to the community. If your friend spends that extra $5, please send them my way when they grow up with her pony-ponies, some balloons - and a song or two. I'm sure the cats know the M.A.S.P. music as well as I.Thanks, And I will keep shooting nips at you<3<|endoftext|>Changing Name: To Name You: A Guide to Changing Your Name in Jamaica [PDF Version]\n",
            "\n",
            "5 Things the Recently Passed UANI Law Does Not Do\n",
            "\n",
            "A recent law passed on the 27th of September by the Jamaica Constituent assembly has provoked much debate on the Net in which broad and overwhelming consensus is that it will present a major interference in our way of life. However, not everyone agrees on the gravity of the dangers. What follows are many points of hope and dark warnings, not to mention critical commentary on the folly of national authorities heading 'in the wrong direction'! And, lest the sins of the fathers be with us still. A few pre-emptive thoughts before continuing.\n",
            "\n",
            "The Jamaican Parliament has passed UANI Act No 16, becoming a major step to gut freedom of expression and freedom of assembly at a very angry time. Read our previous Common Sense Blog posts on the subject, here and here.\n",
            "\n",
            "UANI Act No 16.\n",
            "================================================================================\n",
            "Model prompt >>> "
          ],
          "name": "stdout"
        }
      ]
    },
    {
      "cell_type": "code",
      "metadata": {
        "id": "NuKhosKgQHna",
        "colab_type": "code",
        "colab": {}
      },
      "source": [
        "# Generate samples to file samples.txt. To stop press STOP button at this cell. How download result samples.txt see last cell\n",
        "\n",
        "!python3 src/generate_unconditional_samples.py --model_name=$model_name | tee samples.txt"
      ],
      "execution_count": 0,
      "outputs": []
    },
    {
      "cell_type": "code",
      "metadata": {
        "id": "dC9_n-4HVmHH",
        "colab_type": "code",
        "colab": {}
      },
      "source": [
        "# Generate samples with parameters: top_k and temperature. Result saved to samples.txt\n",
        "\n",
        "!python3 src/generate_unconditional_samples.py --model_name=$model_name --top_k 40 --temperature 0.7 | tee samples.txt"
      ],
      "execution_count": 0,
      "outputs": []
    },
    {
      "cell_type": "code",
      "metadata": {
        "id": "ePBKJi8yZJUO",
        "colab_type": "code",
        "colab": {}
      },
      "source": [
        "# Download file samples.txt with generated text (unconditional mode only)\n",
        "\n",
        "from google.colab import files\n",
        "\n",
        "files.download('samples.txt')\n"
      ],
      "execution_count": 0,
      "outputs": []
    },
    {
      "cell_type": "code",
      "metadata": {
        "id": "1HXYAbJk4rF1",
        "colab_type": "code",
        "colab": {}
      },
      "source": [
        ""
      ],
      "execution_count": 0,
      "outputs": []
    }
  ]
}