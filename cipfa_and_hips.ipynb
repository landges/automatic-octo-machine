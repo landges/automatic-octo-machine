{
  "nbformat": 4,
  "nbformat_minor": 0,
  "metadata": {
    "colab": {
      "name": "cipfa_and_hips.ipynb",
      "provenance": [],
      "collapsed_sections": [],
      "toc_visible": true,
      "mount_file_id": "13uxfnyNoje8SOIOIRFKeMryfsCOCA0s6",
      "authorship_tag": "ABX9TyNWcDdXP+jVs7euQgNh2MDf",
      "include_colab_link": true
    },
    "kernelspec": {
      "name": "python3",
      "display_name": "Python 3"
    }
  },
  "cells": [
    {
      "cell_type": "markdown",
      "metadata": {
        "id": "view-in-github",
        "colab_type": "text"
      },
      "source": [
        "<a href=\"https://colab.research.google.com/github/landges/automatic-octo-machine/blob/master/cipfa_and_hips.ipynb\" target=\"_parent\"><img src=\"https://colab.research.google.com/assets/colab-badge.svg\" alt=\"Open In Colab\"/></a>"
      ]
    },
    {
      "cell_type": "markdown",
      "metadata": {
        "id": "wQuocPO60hA6",
        "colab_type": "text"
      },
      "source": [
        "Установочные команды"
      ]
    },
    {
      "cell_type": "code",
      "metadata": {
        "id": "kheVlN2kUDg4",
        "colab_type": "code",
        "colab": {}
      },
      "source": [
        "!pip install tokenization\n",
        "!pip install nltk\n",
        "!pip install pymorphy2"
      ],
      "execution_count": 0,
      "outputs": []
    },
    {
      "cell_type": "markdown",
      "metadata": {
        "id": "KjddqDSZ0qCY",
        "colab_type": "text"
      },
      "source": [
        "Импорты и используемые функции"
      ]
    },
    {
      "cell_type": "code",
      "metadata": {
        "id": "tgWrqpib9ZrY",
        "colab_type": "code",
        "colab": {
          "base_uri": "https://localhost:8080/",
          "height": 34
        },
        "outputId": "3feae512-72bf-4a35-eebc-89ea92e85dd5"
      },
      "source": [
        "from google.colab import drive\n",
        "import re\n",
        "import tokenization\n",
        "import nltk\n",
        "from nltk import sent_tokenize, word_tokenize, regexp_tokenize\n",
        "from nltk.corpus import stopwords\n",
        "import pymorphy2\n",
        "import matplotlib.pyplot as plt\n",
        "import os\n",
        "drive.mount('/content/drive')\n",
        "\n",
        "def normalize_tokens(tokens):\n",
        "    morph = pymorphy2.MorphAnalyzer()\n",
        "    return [morph.parse(tok)[0].normal_form for tok in tokens]\n",
        "\n",
        "def get_normalize_text(text):\n",
        "    text=text.lower()\n",
        "    words=re.findall(r\"[\\w']+|[.,!?;:{}() \\n]\",text)\n",
        "    words=normalize_tokens(words)\n",
        "    words=[t for t in words if len(t)>2]\n",
        "    return words\n",
        "\n",
        "def uniq_dic(words):\n",
        "    vocab={}\n",
        "    for word in words:\n",
        "      vocab[word]=vocab.get(word,0)+1\n",
        "    return vocab\n",
        "  \n",
        "def hips(n,k=100,b=0.6):\n",
        "  return k*(n**b)\n",
        "def sort_text(text):\n",
        "  return len(text)"
      ],
      "execution_count": 46,
      "outputs": [
        {
          "output_type": "stream",
          "text": [
            "Drive already mounted at /content/drive; to attempt to forcibly remount, call drive.mount(\"/content/drive\", force_remount=True).\n"
          ],
          "name": "stdout"
        }
      ]
    },
    {
      "cell_type": "markdown",
      "metadata": {
        "id": "U9qOjIpi0szg",
        "colab_type": "text"
      },
      "source": [
        "***ГРАФИЧКИ***"
      ]
    },
    {
      "cell_type": "markdown",
      "metadata": {
        "id": "9QOzO2jJvgWc",
        "colab_type": "text"
      },
      "source": [
        "\n",
        "\n",
        "> [Закон ЦИПФА](https://ru.wikipedia.org/wiki/%D0%97%D0%B0%D0%BA%D0%BE%D0%BD_%D0%A6%D0%B8%D0%BF%D1%84%D0%B0)\n",
        "\n",
        "Зако́н Ци́пфа («ранг—частота») — эмпирическая закономерность распределения частоты слов естественного языка: если все слова языка (или просто достаточно длинного текста) упорядочить по убыванию частоты их использования, то частота n-го слова в таком списке окажется приблизительно обратно пропорциональной его порядковому номеру n\n",
        "\n",
        "\n"
      ]
    },
    {
      "cell_type": "code",
      "metadata": {
        "id": "pgfaoP7uxOW8",
        "colab_type": "code",
        "colab": {
          "base_uri": "https://localhost:8080/",
          "height": 312
        },
        "outputId": "b0f84fd2-108e-478b-ef3a-71535f2d01ef"
      },
      "source": [
        "s=open('/content/drive/My Drive/Colab Notebooks/тексты/35000Толстой Лев. Война и мир. Том 3 - royallib.ru.txt','r')\n",
        "text=s.read()\n",
        "s.close()\n",
        "words=get_normalize_text(text)\n",
        "vocab=uniq_dic(words)\n",
        "# print(*sorted(sorted(vocab), key=lambda x :vocab.get(x),reverse=False), sep ='\\n')\n",
        "list_id=list(vocab.items())\n",
        "list_id.sort(key=lambda i :i[1],reverse=True)\n",
        "id=[t[1] for t in list_id]\n",
        "\n",
        "plt.plot(range(100,len(id)),id[100:])\n",
        "plt.title(\"Закон ЦИПФА\")\n",
        "plt.xlabel(\"Range\")\n",
        "plt.ylabel(\"Frequency\")"
      ],
      "execution_count": 48,
      "outputs": [
        {
          "output_type": "execute_result",
          "data": {
            "text/plain": [
              "Text(0, 0.5, 'Frequency')"
            ]
          },
          "metadata": {
            "tags": []
          },
          "execution_count": 48
        },
        {
          "output_type": "display_data",
          "data": {
            "image/png": "[encoded data removed]",
            "text/plain": [
              "<Figure size 432x288 with 1 Axes>"
            ]
          },
          "metadata": {
            "tags": []
          }
        }
      ]
    },
    {
      "cell_type": "markdown",
      "metadata": {
        "id": "FeJfegIlvku9",
        "colab_type": "text"
      },
      "source": [
        "\n",
        "\n",
        "> [Закон ХИПСА](https://ru.wikipedia.org/wiki/%D0%97%D0%B0%D0%BA%D0%BE%D0%BD_%D0%A5%D0%B8%D0%BF%D1%81%D0%B0)\n",
        "\n",
        " Зако́н Хи́пса — эмпирическая закономерность в лингвистике, описывающая распределение числа разных слов в документе (или наборе документов) как функцию от его длины. Описывается формулой\n",
        "\n",
        "\n",
        "![alt text](https://wikimedia.org/api/rest_v1/media/math/render/svg/1313c9e5fa70c479a9b34dc84d396e7d183dc48f)\n",
        "\n",
        "где VR — число разных слов в тексте размера n. K и β — свободные параметры, определяются эмпирически. Для английского корпуса текстов, K обычно лежит между 10 и 100, а β между 0.4 и 0.6.\n"
      ]
    },
    {
      "cell_type": "code",
      "metadata": {
        "id": "D0E1FuqIoNNP",
        "colab_type": "code",
        "colab": {
          "base_uri": "https://localhost:8080/",
          "height": 312
        },
        "outputId": "00385d17-108c-4844-c29c-c2c2425092b9"
      },
      "source": [
        "\n",
        "texts=[]\n",
        "directory='/content/drive/My Drive/Colab Notebooks/тексты/'\n",
        "files = os.listdir(directory)\n",
        "for file in files:\n",
        "  s=open(directory+file,'r')\n",
        "  texts.append(s.read())\n",
        "  s.close\n",
        "texts.sort(key=sort_text)\n",
        "f=[len(uniq_dic(get_normalize_text(r))) for r in texts]\n",
        "len_text=[len(t) for t in texts]\n",
        "plt.plot(len_text,f)\n",
        "plt.title(\"Закон ХИПСА\")\n",
        "plt.xlabel(\"length of text\")\n",
        "plt.ylabel(\"count of uniqueness words\")"
      ],
      "execution_count": 47,
      "outputs": [
        {
          "output_type": "execute_result",
          "data": {
            "text/plain": [
              "Text(0, 0.5, 'count of uniqueness words')"
            ]
          },
          "metadata": {
            "tags": []
          },
          "execution_count": 47
        },
        {
          "output_type": "display_data",
          "data": {
            "image/png": "[encoded data removed]",
            "text/plain": [
              "<Figure size 432x288 with 1 Axes>"
            ]
          },
          "metadata": {
            "tags": []
          }
        }
      ]
    }
  ]
}