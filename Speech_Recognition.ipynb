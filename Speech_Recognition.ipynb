{
  "nbformat": 4,
  "nbformat_minor": 0,
  "metadata": {
    "colab": {
      "name": "Speech Recognition.ipynb",
      "provenance": [],
      "collapsed_sections": [],
      "authorship_tag": "ABX9TyMaB7MrzPNFswwvLE6f5q0e",
      "include_colab_link": true
    },
    "kernelspec": {
      "name": "python3",
      "display_name": "Python 3"
    }
  },
  "cells": [
    {
      "cell_type": "markdown",
      "metadata": {
        "id": "view-in-github",
        "colab_type": "text"
      },
      "source": [
        "<a href=\"https://colab.research.google.com/github/landges/automatic-octo-machine/blob/master/Speech_Recognition.ipynb\" target=\"_parent\"><img src=\"https://colab.research.google.com/assets/colab-badge.svg\" alt=\"Open In Colab\"/></a>"
      ]
    },
    {
      "cell_type": "markdown",
      "metadata": {
        "id": "gYFpKTxwWzkE",
        "colab_type": "text"
      },
      "source": [
        "# Аннотация"
      ]
    },
    {
      "cell_type": "markdown",
      "metadata": {
        "id": "p09qsVMMemwS",
        "colab_type": "text"
      },
      "source": [
        "# [Распознавание речи ](https://ru.wikipedia.org/wiki/%D0%A0%D0%B0%D1%81%D0%BF%D0%BE%D0%B7%D0%BD%D0%B0%D0%B2%D0%B0%D0%BD%D0%B8%D0%B5_%D1%80%D0%B5%D1%87%D0%B8)\n",
        "— автоматический процесс преобразования речевого сигнала в цифровую информацию (например, текстовые данные). "
      ]
    },
    {
      "cell_type": "markdown",
      "metadata": {
        "id": "3cSn3mbrCiai",
        "colab_type": "text"
      },
      "source": [
        "# Основные алгоритмы\n",
        "Нейронные модули **NVIDIA: NeMo**\n",
        "NeMo - это набор инструментов для определения и построения новых современных моделей глубокого обучения для приложений Conversational AI\n",
        "\n",
        "Цель набора инструментов NeMo - дать возможность исследователям легко и безопасно создавать сложные архитектуры нейронных сетей для диалогового ИИ с использованием повторно используемых компонентов. NeMo, созданный для скорости, может масштабировать обучение до нескольких графических процессоров и нескольких узлов"
      ]
    },
    {
      "cell_type": "markdown",
      "metadata": {
        "id": "7lZwROAFal_Y",
        "colab_type": "text"
      },
      "source": [
        "[QuartzNet](https://arxiv.org/abs/1910.10261): Глубокое автоматическое распознавание речи с 1D каналом, разделяемым по времени\n",
        "Самуэль Криман , Станислав Беляев , Борис Гинзбург , Джоселин Хуан , Алексей Кучаев , Виталий Лаврухин , Райан Лири , Джейсон Ли , Ян Чжан\n",
        "(Представлен 22 октября 2019 г.)\n",
        "Мы предлагаем новую сквозную нейронно-акустическую модель для автоматического распознавания речи. Модель состоит из нескольких блоков с остаточными связями между ними. Каждый блок состоит из одного или нескольких модулей с одномерными сверточными слоями, разделенными временным каналом, пакетной нормализацией и уровнями ReLU. Тренируется с потерей СТС. Предложенная сеть достигает почти современной точности в LibriSpeech и Wall Street Journal, имея меньше параметров, чем все конкурирующие модели. Мы также демонстрируем, что эта модель может быть эффективно настроена на новые наборы данных.\n",
        "\n",
        "![alt text](https://nvidia.github.io/NeMo/_images/quartz_vertical.png)"
      ]
    },
    {
      "cell_type": "markdown",
      "metadata": {
        "id": "9rLfNrw-eNCb",
        "colab_type": "text"
      },
      "source": [
        "# Полезные ссылки:\n",
        "[QuartzNet](https://nvidia.github.io/NeMo/asr/quartznet.html) ссылка на код и туториал\n"
      ]
    }
  ]
}