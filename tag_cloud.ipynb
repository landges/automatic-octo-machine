{
  "nbformat": 4,
  "nbformat_minor": 0,
  "metadata": {
    "colab": {
      "name": "tag_cloud.ipynb",
      "provenance": [],
      "collapsed_sections": [],
      "authorship_tag": "ABX9TyNgfdLtl0Zrbs4UB8iUBlbt",
      "include_colab_link": true
    },
    "kernelspec": {
      "name": "python3",
      "display_name": "Python 3"
    }
  },
  "cells": [
    {
      "cell_type": "markdown",
      "metadata": {
        "id": "view-in-github",
        "colab_type": "text"
      },
      "source": [
        "<a href=\"https://colab.research.google.com/github/landges/automatic-octo-machine/blob/master/tag_cloud.ipynb\" target=\"_parent\"><img src=\"https://colab.research.google.com/assets/colab-badge.svg\" alt=\"Open In Colab\"/></a>"
      ]
    },
    {
      "cell_type": "code",
      "metadata": {
        "id": "pnhMLrCgqlML",
        "colab_type": "code",
        "outputId": "42c335b5-3c7e-4760-c61e-a3073cb14c75",
        "colab": {
          "base_uri": "https://localhost:8080/",
          "height": 339
        }
      },
      "source": [
        "!pip install tokenization\n",
        "!pip install nltk\n",
        "!pip install pymorphy2"
      ],
      "execution_count": 0,
      "outputs": [
        {
          "output_type": "stream",
          "text": [
            "Collecting tokenization\n",
            "  Downloading https://files.pythonhosted.org/packages/60/eb/8e1756b0ce07dab8b0f8267019738d0e4ea2fc8f6eb3fe4d433daac38a1d/tokenization-1.0.7-py3-none-any.whl\n",
            "Requirement already satisfied: regex in /usr/local/lib/python3.6/dist-packages (from tokenization) (2019.12.20)\n",
            "Installing collected packages: tokenization\n",
            "Successfully installed tokenization-1.0.7\n",
            "Requirement already satisfied: nltk in /usr/local/lib/python3.6/dist-packages (3.2.5)\n",
            "Requirement already satisfied: six in /usr/local/lib/python3.6/dist-packages (from nltk) (1.12.0)\n",
            "Collecting pymorphy2\n",
            "\u001b[?25l  Downloading https://files.pythonhosted.org/packages/a3/33/fff9675c68b5f6c63ec8c6e6ff57827dda28a1fa5b2c2d727dffff92dd47/pymorphy2-0.8-py2.py3-none-any.whl (46kB)\n",
            "\u001b[K     |████████████████████████████████| 51kB 1.7MB/s \n",
            "\u001b[?25hRequirement already satisfied: docopt>=0.6 in /usr/local/lib/python3.6/dist-packages (from pymorphy2) (0.6.2)\n",
            "Collecting dawg-python>=0.7\n",
            "  Downloading https://files.pythonhosted.org/packages/6a/84/ff1ce2071d4c650ec85745766c0047ccc3b5036f1d03559fd46bb38b5eeb/DAWG_Python-0.7.2-py2.py3-none-any.whl\n",
            "Collecting pymorphy2-dicts<3.0,>=2.4\n",
            "\u001b[?25l  Downloading https://files.pythonhosted.org/packages/02/51/2465fd4f72328ab50877b54777764d928da8cb15b74e2680fc1bd8cb3173/pymorphy2_dicts-2.4.393442.3710985-py2.py3-none-any.whl (7.1MB)\n",
            "\u001b[K     |████████████████████████████████| 7.1MB 8.0MB/s \n",
            "\u001b[?25hInstalling collected packages: dawg-python, pymorphy2-dicts, pymorphy2\n",
            "Successfully installed dawg-python-0.7.2 pymorphy2-0.8 pymorphy2-dicts-2.4.393442.3710985\n"
          ],
          "name": "stdout"
        }
      ]
    },
    {
      "cell_type": "markdown",
      "metadata": {
        "id": "oK9E9QtcBFRr",
        "colab_type": "text"
      },
      "source": [
        "Библиотеки и функции"
      ]
    },
    {
      "cell_type": "code",
      "metadata": {
        "id": "iYc3Ymu0oIbx",
        "colab_type": "code",
        "colab": {}
      },
      "source": [
        "from google.colab import drive\n",
        "import re\n",
        "import tokenization\n",
        "import nltk\n",
        "from nltk import sent_tokenize, word_tokenize, regexp_tokenize\n",
        "from nltk.corpus import stopwords\n",
        "import pymorphy2\n",
        "import matplotlib.pyplot as plt\n",
        "import os\n",
        "from wordcloud import WordCloud\n",
        "drive.mount('/content/drive')\n",
        "nltk.download('stopwords')\n",
        "\n",
        "stop_words = list(set(stopwords.words(\"russian\")))\n",
        "\n",
        "\n",
        "def normalize_tokens(tokens):\n",
        "    morph = pymorphy2.MorphAnalyzer()\n",
        "    return [morph.parse(tok)[0].normal_form for tok in tokens]\n",
        "\n",
        "def get_normalize_text(text):\n",
        "    text=text.lower()\n",
        "    words=re.findall(r\"[\\w']+|[.,!?;:{}() \\n]\",text)\n",
        "    words=normalize_tokens(words)\n",
        "    words=[t for t in words if len(t)>2]\n",
        "    words=[word for word in words if word not in stop_words]\n",
        "    return words\n",
        "\n",
        "def uniq_dic(words):\n",
        "    vocab={}\n",
        "    for word in words:\n",
        "      vocab[word]=vocab.get(word,0)+1\n",
        "    return vocab\n",
        "\n",
        "def plot_WordCloud(dict,title,h):\n",
        "    wc = WordCloud(width=2600, height=2200, background_color=\"white\",prefer_horizontal=h, relative_scaling=1.0,\n",
        "                 collocations=False, min_font_size=10).generate_from_frequencies(dict)\n",
        "    plt.axis(\"off\")\n",
        "    plt.figure(figsize=(9, 6))\n",
        "    plt.imshow(wc, interpolation=\"bilinear\")\n",
        "    plt.title(title)\n",
        "    plt.xticks([])\n",
        "    plt.yticks([])\n",
        "    plt.tight_layout()\n",
        "    plt.show()"
      ],
      "execution_count": 0,
      "outputs": []
    },
    {
      "cell_type": "markdown",
      "metadata": {
        "id": "tRBD9BpcA4zF",
        "colab_type": "text"
      },
      "source": [
        "\n",
        "\n",
        "---\n",
        "\n",
        "\n",
        "Почитать про WordCloud [можно здесь](https://amueller.github.io/word_cloud/generated/wordcloud.WordCloud.html)\n",
        "\n",
        "---\n",
        "\n"
      ]
    },
    {
      "cell_type": "markdown",
      "metadata": {
        "id": "M--aAZcHxbvB",
        "colab_type": "text"
      },
      "source": [
        "# Облако тегов для одного текста\n"
      ]
    },
    {
      "cell_type": "markdown",
      "metadata": {
        "id": "96S3KOiJ_45d",
        "colab_type": "text"
      },
      "source": [
        "\n",
        "![alt text](https://upload.wikimedia.org/wikipedia/commons/thumb/a/a7/Web_2.0_Map.svg/1280px-Web_2.0_Map.svg.png)\n",
        "# [О́блако те́гов](https://ru.wikipedia.org/wiki/%D0%9E%D0%B1%D0%BB%D0%B0%D0%BA%D0%BE_%D1%82%D0%B5%D0%B3%D0%BE%D0%B2): \n",
        "(облако слов, или взвешенный список, представленное(-ый) визуально) — это визуальное представление списка категорий (или тегов, также называемых метками, ярлыками, ключевыми словами и т. п.)[1] Обычно используется для описания ключевых слов (тегов) на веб-сайтах, или для представления неформатированного текста. Ключевые слова чаще всего представляют собой отдельные слова, и важность каждого ключевого слова обозначается размером шрифта или цветом[⇨]. Такое представление удобно для быстрого восприятия наиболее известных терминов и для распределения терминов по популярности относительно друг друга[⇨]. При использовании ключевых слов для упрощения навигации по веб-сайтам, термины снабжаются гиперссылками на понятия, которые подразумеваются под ключевыми словами. Тем не менее, облако не может быть единственным элементом навигации, а пользоваться текстовым поиском удобнее для поиска при наличии более конкретной информации об искомом[2]."
      ]
    },
    {
      "cell_type": "markdown",
      "metadata": {
        "id": "7RDEEB-x07Bn",
        "colab_type": "text"
      },
      "source": [
        "**Текст с учетом/без предобработки и стоп слов**"
      ]
    },
    {
      "cell_type": "code",
      "metadata": {
        "id": "u8-ULdqOq4UD",
        "colab_type": "code",
        "colab": {}
      },
      "source": [
        "s=open('/content/drive/My Drive/Colab Notebooks/тексты/35000Толстой Лев. Война и мир. Том 3 - royallib.ru.txt','r')\n",
        "text=s.read()\n",
        "s.close()\n",
        "\n",
        "words=get_normalize_text(text)\n",
        "vocab=uniq_dic(words)\n",
        "plot_WordCloud(vocab,\"War and Peace С предобработкой\",0.9)\n",
        "\n",
        "words2=re.findall(r\"[\\w']+|[.,!?;:{}() \\n]\",text)\n",
        "words2=[t for t in words2 if len(t)>1]\n",
        "vocabilar=uniq_dic(words2)\n",
        "plot_WordCloud(vocabilar,\"War and Peace БЕЗ предобработки\",0.9)"
      ],
      "execution_count": 0,
      "outputs": []
    },
    {
      "cell_type": "markdown",
      "metadata": {
        "id": "wvo2rab62p4H",
        "colab_type": "text"
      },
      "source": [
        "# Речи **Путина**"
      ]
    },
    {
      "cell_type": "markdown",
      "metadata": {
        "id": "j3X7gQ7A-jtu",
        "colab_type": "text"
      },
      "source": [
        "[Новогодняя речь за 2018](http://kremlin.ru/events/president/news/59629)\n",
        "\n",
        "[Новогодняя речь за 2019](https://tass.ru/obschestvo/7453839)\n",
        "\n"
      ]
    },
    {
      "cell_type": "code",
      "metadata": {
        "id": "jPDeDXSc2pKa",
        "colab_type": "code",
        "colab": {}
      },
      "source": [
        "s=open('/content/drive/My Drive/Colab Notebooks/тексты/Путин2018.txt','r')\n",
        "text18=s.read()\n",
        "s.close()\n",
        "\n",
        "s=open('/content/drive/My Drive/Colab Notebooks/тексты/Путин2019.txt','r')\n",
        "text19=s.read()\n",
        "s.close()\n",
        "\n",
        "words18=get_normalize_text(text18)\n",
        "vocab18=uniq_dic(words18)\n",
        "plot_WordCloud(vocab18,\"Новогоднее обращение Путина 2018\",1.0)\n",
        "\n",
        "words19=get_normalize_text(text19)\n",
        "vocab19=uniq_dic(words19)\n",
        "plot_WordCloud(vocab19,\"Новогоднее обращение Путина 2019\",1.0)"
      ],
      "execution_count": 0,
      "outputs": []
    },
    {
      "cell_type": "markdown",
      "metadata": {
        "id": "KcIHTT5nBjE7",
        "colab_type": "text"
      },
      "source": [
        "\n",
        "![alt text](https://static.mk.ru/upload/entities/2020/03/05/10/articles/detailPicture/80/e1/f1/f9/2acda9218771be5ef15cbc34d6fda1a7.jpg)"
      ]
    }
  ]
}