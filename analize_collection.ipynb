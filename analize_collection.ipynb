{
  "nbformat": 4,
  "nbformat_minor": 0,
  "metadata": {
    "colab": {
      "name": "analize_collection.ipynb",
      "provenance": [],
      "authorship_tag": "ABX9TyP1sNm1HMlaFB77AJs6Cs0w",
      "include_colab_link": true
    },
    "kernelspec": {
      "name": "python3",
      "display_name": "Python 3"
    }
  },
  "cells": [
    {
      "cell_type": "markdown",
      "metadata": {
        "id": "view-in-github",
        "colab_type": "text"
      },
      "source": [
        "<a href=\"https://colab.research.google.com/github/landges/automatic-octo-machine/blob/master/analize_collection.ipynb\" target=\"_parent\"><img src=\"https://colab.research.google.com/assets/colab-badge.svg\" alt=\"Open In Colab\"/></a>"
      ]
    },
    {
      "cell_type": "code",
      "metadata": {
        "id": "grsmho_MiwTC",
        "colab_type": "code",
        "colab": {
          "base_uri": "https://localhost:8080/",
          "height": 339
        },
        "outputId": "7ccfc37a-c15d-4396-9f37-a521146b2dd4"
      },
      "source": [
        "!pip install tokenization\n",
        "!pip install nltk\n",
        "!pip install pymorphy2"
      ],
      "execution_count": 1,
      "outputs": [
        {
          "output_type": "stream",
          "text": [
            "Collecting tokenization\n",
            "  Downloading https://files.pythonhosted.org/packages/60/eb/8e1756b0ce07dab8b0f8267019738d0e4ea2fc8f6eb3fe4d433daac38a1d/tokenization-1.0.7-py3-none-any.whl\n",
            "Requirement already satisfied: regex in /usr/local/lib/python3.6/dist-packages (from tokenization) (2019.12.20)\n",
            "Installing collected packages: tokenization\n",
            "Successfully installed tokenization-1.0.7\n",
            "Requirement already satisfied: nltk in /usr/local/lib/python3.6/dist-packages (3.2.5)\n",
            "Requirement already satisfied: six in /usr/local/lib/python3.6/dist-packages (from nltk) (1.12.0)\n",
            "Collecting pymorphy2\n",
            "\u001b[?25l  Downloading https://files.pythonhosted.org/packages/a3/33/fff9675c68b5f6c63ec8c6e6ff57827dda28a1fa5b2c2d727dffff92dd47/pymorphy2-0.8-py2.py3-none-any.whl (46kB)\n",
            "\u001b[K     |████████████████████████████████| 51kB 1.7MB/s \n",
            "\u001b[?25hRequirement already satisfied: docopt>=0.6 in /usr/local/lib/python3.6/dist-packages (from pymorphy2) (0.6.2)\n",
            "Collecting pymorphy2-dicts<3.0,>=2.4\n",
            "\u001b[?25l  Downloading https://files.pythonhosted.org/packages/02/51/2465fd4f72328ab50877b54777764d928da8cb15b74e2680fc1bd8cb3173/pymorphy2_dicts-2.4.393442.3710985-py2.py3-none-any.whl (7.1MB)\n",
            "\u001b[K     |████████████████████████████████| 7.1MB 5.4MB/s \n",
            "\u001b[?25hCollecting dawg-python>=0.7\n",
            "  Downloading https://files.pythonhosted.org/packages/6a/84/ff1ce2071d4c650ec85745766c0047ccc3b5036f1d03559fd46bb38b5eeb/DAWG_Python-0.7.2-py2.py3-none-any.whl\n",
            "Installing collected packages: pymorphy2-dicts, dawg-python, pymorphy2\n",
            "Successfully installed dawg-python-0.7.2 pymorphy2-0.8 pymorphy2-dicts-2.4.393442.3710985\n"
          ],
          "name": "stdout"
        }
      ]
    },
    {
      "cell_type": "code",
      "metadata": {
        "id": "hXri7r_ElJOn",
        "colab_type": "code",
        "colab": {
          "base_uri": "https://localhost:8080/",
          "height": 67
        },
        "outputId": "79a73786-ab0b-47fc-c472-8fcd60ca0ed3"
      },
      "source": [
        "from google.colab import drive\n",
        "import re\n",
        "import tokenization\n",
        "import nltk\n",
        "from nltk import sent_tokenize, word_tokenize, regexp_tokenize\n",
        "from nltk.corpus import stopwords\n",
        "import pymorphy2\n",
        "import matplotlib.pyplot as plt\n",
        "import os\n",
        "from wordcloud import WordCloud\n",
        "import pandas as pd\n",
        "import numpy as np\n",
        "drive.mount('/content/drive')\n",
        "nltk.download('stopwords')\n",
        "\n",
        "stop_words = list(set(stopwords.words(\"russian\")))\n",
        "\n",
        "\n",
        "def normalize_tokens(tokens):\n",
        "    morph = pymorphy2.MorphAnalyzer()\n",
        "    return [morph.parse(tok)[0].normal_form for tok in tokens]\n",
        "\n",
        "def get_normalize_text(text):\n",
        "    text=text.lower()\n",
        "    words=re.findall(r\"[\\w']+|[.,!?;:{}() \\n]\",text)\n",
        "    words=normalize_tokens(words)\n",
        "    words=[t for t in words if len(t)>2]\n",
        "    words=[word for word in words if word not in stop_words]\n",
        "    return words\n",
        "\n",
        "def uniq_dic(words):\n",
        "    vocab={}\n",
        "    for word in words:\n",
        "      vocab[word]=vocab.get(word,0)+1\n",
        "    return vocab"
      ],
      "execution_count": 5,
      "outputs": [
        {
          "output_type": "stream",
          "text": [
            "Drive already mounted at /content/drive; to attempt to forcibly remount, call drive.mount(\"/content/drive\", force_remount=True).\n",
            "[nltk_data] Downloading package stopwords to /root/nltk_data...\n",
            "[nltk_data]   Package stopwords is already up-to-date!\n"
          ],
          "name": "stdout"
        }
      ]
    },
    {
      "cell_type": "code",
      "metadata": {
        "id": "gYsYPjv4l16c",
        "colab_type": "code",
        "colab": {
          "base_uri": "https://localhost:8080/",
          "height": 34
        },
        "outputId": "f95f8c8f-a37f-440d-8b6e-5802450ed975"
      },
      "source": [
        "positive_text=pd.read_csv(\"/content/drive/My Drive/Colab Notebooks/тексты/positive.csv\",delimiter=';',\n",
        "                          names=['id','tdate','tmane','ttext','ttype','trep','trtw','tfav','tstcount','tfol','tfrien','listcount'])\n",
        "texts_pos=[positive_text.ttext[t] for t in range(len(positive_text.ttext))]\n",
        "\n",
        "negative_text=pd.read_csv(\"/content/drive/My Drive/Colab Notebooks/тексты/negative.csv\",delimiter=';',\n",
        "                          names=['id','tdate','tmane','ttext','ttype','trep','trtw','tfav','tstcount','tfol','tfrien','listcount'])\n",
        "texts_neg=[negative_text.ttext[t] for t in range(len(negative_text.ttext))]\n",
        "text=''.join(texts_pos+texts_neg)"
      ],
      "execution_count": 32,
      "outputs": [
        {
          "output_type": "stream",
          "text": [
            "а, все-таки он немного похож на него. Но мой мальчик все равно лучше:DRT @KatiaCheh: Ну ты идиотка) \n"
          ],
          "name": "stdout"
        }
      ]
    },
    {
      "cell_type": "code",
      "metadata": {
        "id": "TdGMdlmbtmRk",
        "colab_type": "code",
        "colab": {
          "base_uri": "https://localhost:8080/",
          "height": 54
        },
        "outputId": "9d60572f-823b-4820-c65c-fbda259d9f81"
      },
      "source": [
        "prog=re.compile('[А-Яа-я]+')\n",
        "t1=prog.findall(text.lower())\n",
        "morph = pymorphy2.MorphAnalyzer()\n",
        "t2=[morph.parse(tok)[0].normal_form for tok in t1 if tok not in stop_words]\n",
        "t3=nltk.FreqDist(t2)\n",
        "print(t3.most_common(20))"
      ],
      "execution_count": 34,
      "outputs": [
        {
          "output_type": "stream",
          "text": [
            "[('это', 20796), ('хотеть', 11641), ('день', 9974), ('такой', 8882), ('сегодня', 8570), ('очень', 7612), ('быть', 7297), ('год', 7249), ('ты', 7059), ('один', 6879), ('просто', 6790), ('мой', 6404), ('мочь', 6292), ('человек', 6025), ('знать', 5940), ('весь', 5803), ('любить', 5592), ('завтра', 5254), ('вс', 4869), ('вообще', 4851)]\n"
          ],
          "name": "stdout"
        }
      ]
    }
  ]
}